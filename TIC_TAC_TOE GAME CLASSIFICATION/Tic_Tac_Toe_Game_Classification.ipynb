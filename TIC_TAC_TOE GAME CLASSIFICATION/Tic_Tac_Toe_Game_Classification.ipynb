{
 "cells": [
  {
   "cell_type": "markdown",
   "metadata": {},
   "source": [
    "***Tic-Tac-Toe End Game Classification***<br>\n",
    "The Tic-Tac-Toe end game classification is a binary classification task of possible configurations in tic-tac-toe game.<br>\n",
    "Dataset is taken from link https://archive.ics.uci.edu/ml/machine-learning-databases/tic-tac-toe/ <br>\n",
    "\n",
    "The tic-tac-toe dataset encodes the complete set of possible board configurations at the end of Tic-Tac-Toe games using:<br>\n",
    "- 9 attributes(each attribute corresponding to one tic-tac-toe square and has 3 attribute values x, o, and b)\n",
    "  - x indicates player 'X'  \n",
    "  - o indicates player 'O'  \n",
    "  - b indicates 'blank'\n",
    "- 2 classes (positive, negative)  \n",
    "\n",
    "“X” is assumed to play first.<br>\n",
    "The target concept is “win of X” (i.e., true when “x” has one of 8 possible ways to create a “three-in-a-row”)<br>\n",
    "\n",
    "Attributes(A1,...,A9) set is represented as follows:<br>\n",
    "- A1:-top-left-square: {x,o,b}<br>\n",
    "- A2:-top-middle-square: {x,o,b}<br>\n",
    "- A3:-top-right-square: {x,o,b}<br>\n",
    "- A4:-middle-left-square: {x,o,b}<br>\n",
    "- A5:-middle-middle-square: {x,o,b}<br>\n",
    "- A6:-middle-right-square: {x,o,b}<br>\n",
    "- A7:-bottom-left-square: {x,o,b}<br>\n",
    "- A8:-bottom-middle-square: {x,o,b}<br>\n",
    "- A9:-bottom-right-square: {x,o,b}<br>\n",
    "- Class: {positive,negative}<br> "
   ]
  },
  {
   "cell_type": "code",
   "execution_count": 1,
   "metadata": {},
   "outputs": [],
   "source": [
    "#importing the libraries\n",
    "import numpy as np\n",
    "import matplotlib.pyplot as plt\n",
    "import pandas as pd\n",
    "\n",
    "from sklearn.naive_bayes import BernoulliNB\n",
    "from sklearn.tree import DecisionTreeClassifier\n",
    "from sklearn.metrics import classification_report\n",
    "from sklearn.model_selection import GridSearchCV\n",
    "from sklearn.pipeline import Pipeline\n",
    "from time import time"
   ]
  },
  {
   "cell_type": "code",
   "execution_count": 2,
   "metadata": {},
   "outputs": [
    {
     "name": "stdout",
     "output_type": "stream",
     "text": [
      "<class 'pandas.core.frame.DataFrame'>\n",
      "RangeIndex: 958 entries, 0 to 957\n",
      "Data columns (total 10 columns):\n",
      " #   Column  Non-Null Count  Dtype \n",
      "---  ------  --------------  ----- \n",
      " 0   A1      958 non-null    object\n",
      " 1   A2      958 non-null    object\n",
      " 2   A3      958 non-null    object\n",
      " 3   A4      958 non-null    object\n",
      " 4   A5      958 non-null    object\n",
      " 5   A6      958 non-null    object\n",
      " 6   A7      958 non-null    object\n",
      " 7   A8      958 non-null    object\n",
      " 8   A9      958 non-null    object\n",
      " 9   Class   958 non-null    object\n",
      "dtypes: object(10)\n",
      "memory usage: 75.0+ KB\n"
     ]
    }
   ],
   "source": [
    "#loading the dataset\n",
    "dataset=pd.read_csv('tic-tac-toe.data', names=['A1','A2','A3','A4','A5','A6','A7','A8', 'A9', 'Class'])\n",
    "dataset.info()"
   ]
  },
  {
   "cell_type": "markdown",
   "metadata": {},
   "source": [
    "**Observations from the output**<br>\n",
    "- There are total 958 instances/examples represented in rows and 9 attributes with 1 class target variable<br>"
   ]
  },
  {
   "cell_type": "code",
   "execution_count": 3,
   "metadata": {},
   "outputs": [
    {
     "data": {
      "text/plain": [
       "array(['positive', 'negative'], dtype=object)"
      ]
     },
     "execution_count": 3,
     "metadata": {},
     "output_type": "execute_result"
    }
   ],
   "source": [
    "dataset['Class'].unique()"
   ]
  },
  {
   "cell_type": "code",
   "execution_count": 4,
   "metadata": {},
   "outputs": [
    {
     "data": {
      "text/html": [
       "<div>\n",
       "<style scoped>\n",
       "    .dataframe tbody tr th:only-of-type {\n",
       "        vertical-align: middle;\n",
       "    }\n",
       "\n",
       "    .dataframe tbody tr th {\n",
       "        vertical-align: top;\n",
       "    }\n",
       "\n",
       "    .dataframe thead tr th {\n",
       "        text-align: left;\n",
       "    }\n",
       "\n",
       "    .dataframe thead tr:last-of-type th {\n",
       "        text-align: right;\n",
       "    }\n",
       "</style>\n",
       "<table border=\"1\" class=\"dataframe\">\n",
       "  <thead>\n",
       "    <tr>\n",
       "      <th></th>\n",
       "      <th colspan=\"4\" halign=\"left\">A1</th>\n",
       "      <th colspan=\"4\" halign=\"left\">A2</th>\n",
       "      <th colspan=\"2\" halign=\"left\">A3</th>\n",
       "      <th>...</th>\n",
       "      <th colspan=\"2\" halign=\"left\">A7</th>\n",
       "      <th colspan=\"4\" halign=\"left\">A8</th>\n",
       "      <th colspan=\"4\" halign=\"left\">A9</th>\n",
       "    </tr>\n",
       "    <tr>\n",
       "      <th></th>\n",
       "      <th>count</th>\n",
       "      <th>unique</th>\n",
       "      <th>top</th>\n",
       "      <th>freq</th>\n",
       "      <th>count</th>\n",
       "      <th>unique</th>\n",
       "      <th>top</th>\n",
       "      <th>freq</th>\n",
       "      <th>count</th>\n",
       "      <th>unique</th>\n",
       "      <th>...</th>\n",
       "      <th>top</th>\n",
       "      <th>freq</th>\n",
       "      <th>count</th>\n",
       "      <th>unique</th>\n",
       "      <th>top</th>\n",
       "      <th>freq</th>\n",
       "      <th>count</th>\n",
       "      <th>unique</th>\n",
       "      <th>top</th>\n",
       "      <th>freq</th>\n",
       "    </tr>\n",
       "    <tr>\n",
       "      <th>Class</th>\n",
       "      <th></th>\n",
       "      <th></th>\n",
       "      <th></th>\n",
       "      <th></th>\n",
       "      <th></th>\n",
       "      <th></th>\n",
       "      <th></th>\n",
       "      <th></th>\n",
       "      <th></th>\n",
       "      <th></th>\n",
       "      <th></th>\n",
       "      <th></th>\n",
       "      <th></th>\n",
       "      <th></th>\n",
       "      <th></th>\n",
       "      <th></th>\n",
       "      <th></th>\n",
       "      <th></th>\n",
       "      <th></th>\n",
       "      <th></th>\n",
       "      <th></th>\n",
       "    </tr>\n",
       "  </thead>\n",
       "  <tbody>\n",
       "    <tr>\n",
       "      <th>negative</th>\n",
       "      <td>332</td>\n",
       "      <td>3</td>\n",
       "      <td>o</td>\n",
       "      <td>146</td>\n",
       "      <td>332</td>\n",
       "      <td>3</td>\n",
       "      <td>x</td>\n",
       "      <td>153</td>\n",
       "      <td>332</td>\n",
       "      <td>3</td>\n",
       "      <td>...</td>\n",
       "      <td>o</td>\n",
       "      <td>146</td>\n",
       "      <td>332</td>\n",
       "      <td>3</td>\n",
       "      <td>x</td>\n",
       "      <td>153</td>\n",
       "      <td>332</td>\n",
       "      <td>3</td>\n",
       "      <td>o</td>\n",
       "      <td>146</td>\n",
       "    </tr>\n",
       "    <tr>\n",
       "      <th>positive</th>\n",
       "      <td>626</td>\n",
       "      <td>3</td>\n",
       "      <td>x</td>\n",
       "      <td>295</td>\n",
       "      <td>626</td>\n",
       "      <td>3</td>\n",
       "      <td>o</td>\n",
       "      <td>229</td>\n",
       "      <td>626</td>\n",
       "      <td>3</td>\n",
       "      <td>...</td>\n",
       "      <td>x</td>\n",
       "      <td>295</td>\n",
       "      <td>626</td>\n",
       "      <td>3</td>\n",
       "      <td>o</td>\n",
       "      <td>229</td>\n",
       "      <td>626</td>\n",
       "      <td>3</td>\n",
       "      <td>x</td>\n",
       "      <td>295</td>\n",
       "    </tr>\n",
       "  </tbody>\n",
       "</table>\n",
       "<p>2 rows × 36 columns</p>\n",
       "</div>"
      ],
      "text/plain": [
       "            A1                    A2                    A3         ...  A7  \\\n",
       "         count unique top freq count unique top freq count unique  ... top   \n",
       "Class                                                              ...       \n",
       "negative   332      3   o  146   332      3   x  153   332      3  ...   o   \n",
       "positive   626      3   x  295   626      3   o  229   626      3  ...   x   \n",
       "\n",
       "                 A8                    A9                  \n",
       "         freq count unique top freq count unique top freq  \n",
       "Class                                                      \n",
       "negative  146   332      3   x  153   332      3   o  146  \n",
       "positive  295   626      3   o  229   626      3   x  295  \n",
       "\n",
       "[2 rows x 36 columns]"
      ]
     },
     "execution_count": 4,
     "metadata": {},
     "output_type": "execute_result"
    }
   ],
   "source": [
    "dataset.groupby('Class').describe()"
   ]
  },
  {
   "cell_type": "markdown",
   "metadata": {},
   "source": [
    "**Observations from the output**<br>\n",
    "- Dataset contains 626 positive examples and 332 negative examples<br>\n",
    "- Class Distribution: About 65.3% are positive in dataset(i.e., wins for \"x\")<br>"
   ]
  },
  {
   "cell_type": "code",
   "execution_count": 5,
   "metadata": {},
   "outputs": [
    {
     "data": {
      "text/html": [
       "<div>\n",
       "<style scoped>\n",
       "    .dataframe tbody tr th:only-of-type {\n",
       "        vertical-align: middle;\n",
       "    }\n",
       "\n",
       "    .dataframe tbody tr th {\n",
       "        vertical-align: top;\n",
       "    }\n",
       "\n",
       "    .dataframe thead th {\n",
       "        text-align: right;\n",
       "    }\n",
       "</style>\n",
       "<table border=\"1\" class=\"dataframe\">\n",
       "  <thead>\n",
       "    <tr style=\"text-align: right;\">\n",
       "      <th></th>\n",
       "      <th>A1</th>\n",
       "      <th>A2</th>\n",
       "      <th>A3</th>\n",
       "      <th>A4</th>\n",
       "      <th>A5</th>\n",
       "      <th>A6</th>\n",
       "      <th>A7</th>\n",
       "      <th>A8</th>\n",
       "      <th>A9</th>\n",
       "      <th>Class</th>\n",
       "    </tr>\n",
       "  </thead>\n",
       "  <tbody>\n",
       "    <tr>\n",
       "      <th>0</th>\n",
       "      <td>x</td>\n",
       "      <td>x</td>\n",
       "      <td>x</td>\n",
       "      <td>x</td>\n",
       "      <td>o</td>\n",
       "      <td>o</td>\n",
       "      <td>x</td>\n",
       "      <td>o</td>\n",
       "      <td>o</td>\n",
       "      <td>positive</td>\n",
       "    </tr>\n",
       "    <tr>\n",
       "      <th>1</th>\n",
       "      <td>x</td>\n",
       "      <td>x</td>\n",
       "      <td>x</td>\n",
       "      <td>x</td>\n",
       "      <td>o</td>\n",
       "      <td>o</td>\n",
       "      <td>o</td>\n",
       "      <td>x</td>\n",
       "      <td>o</td>\n",
       "      <td>positive</td>\n",
       "    </tr>\n",
       "    <tr>\n",
       "      <th>2</th>\n",
       "      <td>x</td>\n",
       "      <td>x</td>\n",
       "      <td>x</td>\n",
       "      <td>x</td>\n",
       "      <td>o</td>\n",
       "      <td>o</td>\n",
       "      <td>o</td>\n",
       "      <td>o</td>\n",
       "      <td>x</td>\n",
       "      <td>positive</td>\n",
       "    </tr>\n",
       "    <tr>\n",
       "      <th>3</th>\n",
       "      <td>x</td>\n",
       "      <td>x</td>\n",
       "      <td>x</td>\n",
       "      <td>x</td>\n",
       "      <td>o</td>\n",
       "      <td>o</td>\n",
       "      <td>o</td>\n",
       "      <td>b</td>\n",
       "      <td>b</td>\n",
       "      <td>positive</td>\n",
       "    </tr>\n",
       "    <tr>\n",
       "      <th>4</th>\n",
       "      <td>x</td>\n",
       "      <td>x</td>\n",
       "      <td>x</td>\n",
       "      <td>x</td>\n",
       "      <td>o</td>\n",
       "      <td>o</td>\n",
       "      <td>b</td>\n",
       "      <td>o</td>\n",
       "      <td>b</td>\n",
       "      <td>positive</td>\n",
       "    </tr>\n",
       "  </tbody>\n",
       "</table>\n",
       "</div>"
      ],
      "text/plain": [
       "  A1 A2 A3 A4 A5 A6 A7 A8 A9     Class\n",
       "0  x  x  x  x  o  o  x  o  o  positive\n",
       "1  x  x  x  x  o  o  o  x  o  positive\n",
       "2  x  x  x  x  o  o  o  o  x  positive\n",
       "3  x  x  x  x  o  o  o  b  b  positive\n",
       "4  x  x  x  x  o  o  b  o  b  positive"
      ]
     },
     "execution_count": 5,
     "metadata": {},
     "output_type": "execute_result"
    }
   ],
   "source": [
    "dataset.head()"
   ]
  },
  {
   "cell_type": "code",
   "execution_count": 6,
   "metadata": {},
   "outputs": [
    {
     "data": {
      "text/html": [
       "<div>\n",
       "<style scoped>\n",
       "    .dataframe tbody tr th:only-of-type {\n",
       "        vertical-align: middle;\n",
       "    }\n",
       "\n",
       "    .dataframe tbody tr th {\n",
       "        vertical-align: top;\n",
       "    }\n",
       "\n",
       "    .dataframe thead th {\n",
       "        text-align: right;\n",
       "    }\n",
       "</style>\n",
       "<table border=\"1\" class=\"dataframe\">\n",
       "  <thead>\n",
       "    <tr style=\"text-align: right;\">\n",
       "      <th></th>\n",
       "      <th>A1</th>\n",
       "      <th>A2</th>\n",
       "      <th>A3</th>\n",
       "      <th>A4</th>\n",
       "      <th>A5</th>\n",
       "      <th>A6</th>\n",
       "      <th>A7</th>\n",
       "      <th>A8</th>\n",
       "      <th>A9</th>\n",
       "      <th>Class</th>\n",
       "    </tr>\n",
       "  </thead>\n",
       "  <tbody>\n",
       "    <tr>\n",
       "      <th>0</th>\n",
       "      <td>2</td>\n",
       "      <td>2</td>\n",
       "      <td>2</td>\n",
       "      <td>2</td>\n",
       "      <td>1</td>\n",
       "      <td>1</td>\n",
       "      <td>2</td>\n",
       "      <td>1</td>\n",
       "      <td>1</td>\n",
       "      <td>1</td>\n",
       "    </tr>\n",
       "    <tr>\n",
       "      <th>1</th>\n",
       "      <td>2</td>\n",
       "      <td>2</td>\n",
       "      <td>2</td>\n",
       "      <td>2</td>\n",
       "      <td>1</td>\n",
       "      <td>1</td>\n",
       "      <td>1</td>\n",
       "      <td>2</td>\n",
       "      <td>1</td>\n",
       "      <td>1</td>\n",
       "    </tr>\n",
       "    <tr>\n",
       "      <th>2</th>\n",
       "      <td>2</td>\n",
       "      <td>2</td>\n",
       "      <td>2</td>\n",
       "      <td>2</td>\n",
       "      <td>1</td>\n",
       "      <td>1</td>\n",
       "      <td>1</td>\n",
       "      <td>1</td>\n",
       "      <td>2</td>\n",
       "      <td>1</td>\n",
       "    </tr>\n",
       "    <tr>\n",
       "      <th>3</th>\n",
       "      <td>2</td>\n",
       "      <td>2</td>\n",
       "      <td>2</td>\n",
       "      <td>2</td>\n",
       "      <td>1</td>\n",
       "      <td>1</td>\n",
       "      <td>1</td>\n",
       "      <td>0</td>\n",
       "      <td>0</td>\n",
       "      <td>1</td>\n",
       "    </tr>\n",
       "    <tr>\n",
       "      <th>4</th>\n",
       "      <td>2</td>\n",
       "      <td>2</td>\n",
       "      <td>2</td>\n",
       "      <td>2</td>\n",
       "      <td>1</td>\n",
       "      <td>1</td>\n",
       "      <td>0</td>\n",
       "      <td>1</td>\n",
       "      <td>0</td>\n",
       "      <td>1</td>\n",
       "    </tr>\n",
       "  </tbody>\n",
       "</table>\n",
       "</div>"
      ],
      "text/plain": [
       "   A1  A2  A3  A4  A5  A6  A7  A8  A9  Class\n",
       "0   2   2   2   2   1   1   2   1   1      1\n",
       "1   2   2   2   2   1   1   1   2   1      1\n",
       "2   2   2   2   2   1   1   1   1   2      1\n",
       "3   2   2   2   2   1   1   1   0   0      1\n",
       "4   2   2   2   2   1   1   0   1   0      1"
      ]
     },
     "execution_count": 6,
     "metadata": {},
     "output_type": "execute_result"
    }
   ],
   "source": [
    "#convert the labels to values \n",
    "from sklearn.preprocessing import LabelEncoder\n",
    "le=LabelEncoder()\n",
    "for column in dataset.columns:\n",
    "    dataset[column]=le.fit_transform(dataset[column])\n",
    "dataset.head()"
   ]
  },
  {
   "cell_type": "code",
   "execution_count": 7,
   "metadata": {},
   "outputs": [
    {
     "name": "stdout",
     "output_type": "stream",
     "text": [
      "     A1  A2  A3  A4  A5  A6  A7  A8  A9\n",
      "0     2   2   2   2   1   1   2   1   1\n",
      "1     2   2   2   2   1   1   1   2   1\n",
      "2     2   2   2   2   1   1   1   1   2\n",
      "3     2   2   2   2   1   1   1   0   0\n",
      "4     2   2   2   2   1   1   0   1   0\n",
      "..   ..  ..  ..  ..  ..  ..  ..  ..  ..\n",
      "953   1   2   2   2   1   1   1   2   2\n",
      "954   1   2   1   2   2   1   2   1   2\n",
      "955   1   2   1   2   1   2   2   1   2\n",
      "956   1   2   1   1   2   2   2   1   2\n",
      "957   1   1   2   2   2   1   1   2   2\n",
      "\n",
      "[958 rows x 9 columns]\n",
      "0      1\n",
      "1      1\n",
      "2      1\n",
      "3      1\n",
      "4      1\n",
      "      ..\n",
      "953    0\n",
      "954    0\n",
      "955    0\n",
      "956    0\n",
      "957    0\n",
      "Name: Class, Length: 958, dtype: int32\n"
     ]
    }
   ],
   "source": [
    "X=dataset.iloc[ : , :-1]\n",
    "Y=dataset.iloc[ : , -1]\n",
    "print(X)\n",
    "print(Y)"
   ]
  },
  {
   "cell_type": "code",
   "execution_count": 8,
   "metadata": {},
   "outputs": [],
   "source": [
    "#Spliting the dataset into training and test data set\n",
    "from sklearn.model_selection import train_test_split\n",
    "X_train, X_test, y_train, y_test = train_test_split(X, Y, test_size = 0.2, random_state = 1)"
   ]
  },
  {
   "cell_type": "code",
   "execution_count": 9,
   "metadata": {},
   "outputs": [
    {
     "name": "stdout",
     "output_type": "stream",
     "text": [
      "     A1  A2  A3  A4  A5  A6  A7  A8  A9\n",
      "414   1   1   0   2   2   2   0   0   0\n",
      "725   2   0   1   2   0   1   0   2   1\n",
      "223   2   0   2   2   1   1   2   1   0\n",
      "757   1   2   2   1   1   1   2   2   0\n",
      "947   2   1   2   2   1   1   1   2   2\n",
      "..   ..  ..  ..  ..  ..  ..  ..  ..  ..\n",
      "767   1   2   2   0   2   2   1   1   1\n",
      "72    2   2   2   0   0   1   1   0   0\n",
      "908   0   2   0   2   2   0   1   1   1\n",
      "235   2   0   2   1   0   2   1   1   2\n",
      "37    2   2   2   1   0   1   2   1   0\n",
      "\n",
      "[766 rows x 9 columns]\n"
     ]
    }
   ],
   "source": [
    "print(X_train)"
   ]
  },
  {
   "cell_type": "code",
   "execution_count": 10,
   "metadata": {},
   "outputs": [
    {
     "name": "stdout",
     "output_type": "stream",
     "text": [
      "     A1  A2  A3  A4  A5  A6  A7  A8  A9\n",
      "241   2   0   1   2   2   2   0   1   1\n",
      "849   1   1   0   1   2   2   1   2   2\n",
      "436   1   0   2   1   2   0   2   2   1\n",
      "386   1   1   2   1   2   0   2   2   0\n",
      "345   1   2   0   2   2   2   1   1   0\n",
      "..   ..  ..  ..  ..  ..  ..  ..  ..  ..\n",
      "177   2   1   1   1   0   0   2   2   2\n",
      "605   0   0   2   0   1   2   1   0   2\n",
      "60    2   2   2   0   1   1   0   2   1\n",
      "268   2   0   1   0   2   2   1   1   2\n",
      "784   1   2   1   0   1   2   2   2   1\n",
      "\n",
      "[192 rows x 9 columns]\n"
     ]
    }
   ],
   "source": [
    "print(X_test)"
   ]
  },
  {
   "cell_type": "code",
   "execution_count": 11,
   "metadata": {},
   "outputs": [
    {
     "name": "stdout",
     "output_type": "stream",
     "text": [
      "414    1\n",
      "725    0\n",
      "223    1\n",
      "757    0\n",
      "947    0\n",
      "      ..\n",
      "767    0\n",
      "72     1\n",
      "908    0\n",
      "235    1\n",
      "37     1\n",
      "Name: Class, Length: 766, dtype: int32\n"
     ]
    }
   ],
   "source": [
    "print(y_train)"
   ]
  },
  {
   "cell_type": "code",
   "execution_count": 12,
   "metadata": {},
   "outputs": [
    {
     "name": "stdout",
     "output_type": "stream",
     "text": [
      "241    1\n",
      "849    0\n",
      "436    1\n",
      "386    1\n",
      "345    1\n",
      "      ..\n",
      "177    1\n",
      "605    1\n",
      "60     1\n",
      "268    1\n",
      "784    0\n",
      "Name: Class, Length: 192, dtype: int32\n"
     ]
    }
   ],
   "source": [
    "print(y_test)"
   ]
  },
  {
   "cell_type": "markdown",
   "metadata": {},
   "source": [
    "***BERNOULLI NAIVE BAYES MODEL***\n",
    "- This multivariate binary classifier is suitable for handling discrete data."
   ]
  },
  {
   "cell_type": "code",
   "execution_count": 13,
   "metadata": {},
   "outputs": [
    {
     "name": "stdout",
     "output_type": "stream",
     "text": [
      "BERNOULLI NAIVE BAYES MODEL\n",
      "0.6510416666666666\n",
      "total duration= 0.033084869384765625\n"
     ]
    }
   ],
   "source": [
    "t1=time()\n",
    "print(\"BERNOULLI NAIVE BAYES MODEL\")\n",
    "model=BernoulliNB()\n",
    "clf = model.fit(X_train,y_train)\n",
    "print(clf.score(X_test, y_test))\n",
    "t2= time()\n",
    "print(\"total duration=\", t2-t1)\n"
   ]
  },
  {
   "cell_type": "markdown",
   "metadata": {},
   "source": [
    "**Observations from the output**<br>\n",
    "The bernoulli naive bayes methods is accurately able to classify only 65% of dataset."
   ]
  },
  {
   "cell_type": "markdown",
   "metadata": {},
   "source": [
    "***Decision Tree MODEL***<br>\n",
    "-This model partitions the dataset into subsets.The partition process starts with binary split and continues until no further split is possible"
   ]
  },
  {
   "cell_type": "code",
   "execution_count": 14,
   "metadata": {},
   "outputs": [
    {
     "name": "stdout",
     "output_type": "stream",
     "text": [
      "DECISION TREE MODEL\n",
      "0.7916666666666666\n",
      "total duration= 0.019254446029663086\n"
     ]
    }
   ],
   "source": [
    "t3=time()\n",
    "print(\"DECISION TREE MODEL\")\n",
    "dtModel=DecisionTreeClassifier(min_samples_split=10, random_state=1)\n",
    "clfDT = dtModel.fit(X_train,y_train)\n",
    "print(clfDT.score(X_test, y_test))\n",
    "t4= time()\n",
    "print(\"total duration=\", t4-t3)\n"
   ]
  },
  {
   "cell_type": "markdown",
   "metadata": {},
   "source": [
    "***Observation From Output***<br>\n",
    "- The decision tree machine learning algorithm is able to accurately classify 79% of dataset which is better than Naive Bayes Bernoulli Model.<br>\n",
    "- The decision tree machine learning algorithm's performance can be enhanced by calculating entropy gain and spilitting based on highest information gain value "
   ]
  },
  {
   "cell_type": "code",
   "execution_count": 15,
   "metadata": {},
   "outputs": [
    {
     "name": "stdout",
     "output_type": "stream",
     "text": [
      "Fitting 5 folds for each of 27 candidates, totalling 135 fits\n"
     ]
    },
    {
     "name": "stderr",
     "output_type": "stream",
     "text": [
      "[Parallel(n_jobs=-1)]: Using backend LokyBackend with 4 concurrent workers.\n"
     ]
    },
    {
     "name": "stdout",
     "output_type": "stream",
     "text": [
      "Score: 0.8713482898232232\n",
      "Parameters to be set:\n",
      "clfDT DecisionTreeClassifier(criterion='entropy', max_depth=40, min_samples_split=4)\n",
      "clfDT__ccp_alpha 0.0\n",
      "clfDT__class_weight None\n",
      "clfDT__criterion entropy\n",
      "clfDT__max_depth 40\n",
      "clfDT__max_features None\n",
      "clfDT__max_leaf_nodes None\n",
      "clfDT__min_impurity_decrease 0.0\n",
      "clfDT__min_impurity_split None\n",
      "clfDT__min_samples_leaf 1\n",
      "clfDT__min_samples_split 4\n",
      "clfDT__min_weight_fraction_leaf 0.0\n",
      "clfDT__presort deprecated\n",
      "clfDT__random_state None\n",
      "clfDT__splitter best\n",
      "memory None\n",
      "steps [('clfDT', DecisionTreeClassifier(criterion='entropy', max_depth=40, min_samples_split=4))]\n",
      "verbose False\n",
      "              precision    recall  f1-score   support\n",
      "\n",
      "           0       0.80      0.79      0.80        67\n",
      "           1       0.89      0.90      0.89       125\n",
      "\n",
      "    accuracy                           0.86       192\n",
      "   macro avg       0.85      0.84      0.84       192\n",
      "weighted avg       0.86      0.86      0.86       192\n",
      "\n"
     ]
    },
    {
     "name": "stderr",
     "output_type": "stream",
     "text": [
      "[Parallel(n_jobs=-1)]: Done  68 tasks      | elapsed:    2.3s\n",
      "[Parallel(n_jobs=-1)]: Done 135 out of 135 | elapsed:    2.4s finished\n"
     ]
    }
   ],
   "source": [
    "#entropy based classification report using GridSearch\n",
    "pl=Pipeline([('clfDT', DecisionTreeClassifier(criterion='entropy'))])\n",
    "parameters={'clfDT__max_depth':(4,16,40), 'clfDT__min_samples_split':(1,4,8), 'clfDT__min_samples_leaf':(1,2,3)}\n",
    "gs=GridSearchCV(pl, parameters, n_jobs=-1, verbose=1, scoring='f1')\n",
    "gs.fit(X_train, y_train)\n",
    "\n",
    "print(\"Score:\", gs.best_score_)\n",
    "print(\"Parameters to be set:\")\n",
    "params=gs.best_estimator_.get_params()\n",
    "\n",
    "for param_name in sorted(params.keys()):\n",
    "    print(param_name,params[param_name])\n",
    "\n",
    "predictions=gs.predict(X_test)\n",
    "print(classification_report(y_test,predictions))\n",
    "    \n"
   ]
  },
  {
   "cell_type": "code",
   "execution_count": 16,
   "metadata": {},
   "outputs": [
    {
     "name": "stdout",
     "output_type": "stream",
     "text": [
      "DECISION TREE MODEL\n",
      "0.8333333333333334\n",
      "total duration= 0.017049789428710938\n"
     ]
    }
   ],
   "source": [
    "#setting values from classification report\n",
    "t5=time()\n",
    "print(\"DECISION TREE MODEL\")\n",
    "dtEModel=DecisionTreeClassifier(min_samples_split=2,max_depth=16, min_samples_leaf=1,random_state=1)\n",
    "clfDTE = dtEModel.fit(X_train,y_train)\n",
    "print(clfDTE.score(X_test, y_test))\n",
    "t6= time()\n",
    "print(\"total duration=\", t6-t5)\n"
   ]
  },
  {
   "cell_type": "markdown",
   "metadata": {},
   "source": [
    "***Observation From Output***<br>\n",
    "- The decision tree machine learning algorithm's performance has improvised to accurately classify 83% of dataset "
   ]
  }
 ],
 "metadata": {
  "kernelspec": {
   "display_name": "Python 3",
   "language": "python",
   "name": "python3"
  },
  "language_info": {
   "codemirror_mode": {
    "name": "ipython",
    "version": 3
   },
   "file_extension": ".py",
   "mimetype": "text/x-python",
   "name": "python",
   "nbconvert_exporter": "python",
   "pygments_lexer": "ipython3",
   "version": "3.8.3"
  }
 },
 "nbformat": 4,
 "nbformat_minor": 4
}
